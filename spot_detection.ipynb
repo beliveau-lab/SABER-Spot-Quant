{
 "cells": [
  {
   "cell_type": "code",
   "execution_count": null,
   "metadata": {},
   "outputs": [],
   "source": [
    "from tifffile import imread, imshow\n",
    "from skimage import feature, exposure\n",
    "import numpy as np\n",
    "import matplotlib.pyplot as plt\n",
    "from nd2reader import ND2Reader\n",
    "import glob, os\n",
    "from stardist.models import StarDist2D\n",
    "from csbdeep.utils import normalize\n",
    "import cv2\n",
    "from skimage.measure import regionprops\n",
    "from skimage.filters import threshold_otsu"
   ]
  },
  {
   "cell_type": "code",
   "execution_count": null,
   "metadata": {},
   "outputs": [],
   "source": [
    "def getSpotIntensities(spotArr, img): # function to return intensity of detected spot centroid\n",
    "    intensities = []\n",
    "    for spot in spotArr:\n",
    "        y, x, r = spot\n",
    "        intensities.append(img[int(y)][int(x)])\n",
    "    return intensities\n"
   ]
  },
  {
   "cell_type": "code",
   "execution_count": null,
   "metadata": {},
   "outputs": [],
   "source": [
    "spot_intensities = {'SABER': [], 'pSABER': []} # dict to hold intensities of spot centroids\n",
    "datasets = ['SABER', 'pSABER'] # imaging conditions\n",
    "mask_method = 'otsu' # string to specify method for filtering spots not overlapping a nucleus\n"
   ]
  },
  {
   "cell_type": "code",
   "execution_count": null,
   "metadata": {},
   "outputs": [],
   "source": [
    "for dataset in datasets:\n",
    "    for file in glob.glob('data_root/'+dataset+'*.nd2'): # loads .nd2s matching experiment string (SABER v pSABER)\n",
    "        print(os.path.basename(file))\n",
    "        bg = np.zeros([1024,1024]) # generate a black background image to draw contours on\n",
    "        spots_img =  ND2Reader(file)\n",
    "        dapi_img = ND2Reader(file)\n",
    "        dapi_img.default_coords['c'] = 0 # create an image stack containing slices in DAPI .nd2 channel\n",
    "        spots_img.default_coords['c'] = 1 # create an image stack containing slices in FISH .nd2 channel\n",
    "        d_max_ip = np.max(dapi_img, axis=0) # generate a max-Z projection of the DAPI channel (for nuclear segmentation/thresholding)\n",
    "        if mask_method == 'cnn': # set method to segment nuclei (StarDist2D pretrained vs 2-class otsu)\n",
    "            min_size = 500 # nuclear minimum size threshold\n",
    "            model = StarDist2D.from_pretrained('2D_versatile_fluo') # load pretrained 2D nuclear segmentation model from StarDist2D\n",
    "            d_max_ip = cv2.resize(d_max_ip, dsize=(256,256)) # downsample DAPI MIP to improve segmentation results\n",
    "            mask, _ = model.predict_instances(normalize(d_max_ip)) # segment nuclei on normalized, downsampled MIP\n",
    "            for region in regionprops(mask): # filter segmented objects based on size threshold\n",
    "                if region.area < min_size:\n",
    "                    mask[mask==region.label] = 0\n",
    "            mask = cv2.resize(mask, dsize=(1024,1024), interpolation=cv2.INTER_LINEAR_EXACT) # upscale segmentation mask to original size\n",
    "            mask = mask.astype(np.uint8) # convert mask dtype to unsigned 8-bit int\n",
    "        else: # run if using otsu thresholding for nuclear segmentation\n",
    "            d_thresh = 0.5*threshold_otsu(d_max_ip) # was getting subpar results from default threshold, multiplied by some scalar (here 0.5)\n",
    "            mask = d_max_ip > d_thresh\n",
    "            mask = mask.astype(np.uint8)\n",
    "        s_max = np.max(spots_img, axis=0) # generate a max-Z projection of the FISH/pSABER channel\n",
    "        spots_np = np.asarray(s_max) # convert FISH MIP to a numpy array\n",
    "        if dataset == 'SABER': # run skimage blob detection on FISH/pSABER MIP, with sigma params determined by dataset\n",
    "            spots = feature.blob_log(s_max, threshold = 0.02, min_sigma=0.001, max_sigma=0.5, num_sigma=20)\n",
    "        elif dataset == 'pSABER':\n",
    "            spots = feature.blob_log(s_max, min_sigma=0.01, max_sigma=1, num_sigma=20)\n",
    "        cnts = cv2.findContours(mask, cv2.RETR_EXTERNAL, cv2.CHAIN_APPROX_SIMPLE) # find contours (edges) of nuclear mask\n",
    "        cnts = cnts[0] if len(cnts) == 2 else cnts[1]\n",
    "        for c in cnts:\n",
    "            cv2.drawContours(bg,[c], -1, color=(40000,), thickness=1, lineType=16) # draw each contour on background image\n",
    "        cv2.imwrite('plots/'+os.path.basename(file)+'_contours.bmp', bg) # write contour image to disk\n",
    "        spots = [s for s in spots if mask[int(s[0])][int(s[1])] > 0] # filter spots that do not overlap a segmented nucleus (buffer?)\n",
    "        for intensity in getSpotIntensities(spots,s_max):\n",
    "            spot_intensities[dataset].append(intensity) # append detected spot intensities to array\n",
    "        _, mask = cv2.threshold(mask,0,256,cv2.THRESH_BINARY)\n",
    "        mask = cv2.bitwise_not(mask)\n",
    "        cv2.imwrite('plots/'+os.path.basename(file)+'_mask.png', mask)\n",
    "        cv2.imwrite('plots/'+os.path.basename(file)+'_img.png', s_max)\n",
    "        fig,ax = plt.subplots(1)\n",
    "        ax.imshow(s_max)\n",
    "        spots_list = [spots]\n",
    "        colors = ['red']\n",
    "        titles = ['LoG']\n",
    "        sequence = zip(spots_list,colors,titles)\n",
    "        for blob in spots:\n",
    "                y, x, r = blob\n",
    "                c = plt.Circle((x, y), r, color='red', linewidth=5, fill=True)\n",
    "                ax.add_patch(c)\n",
    "\n",
    "        plt.tight_layout()\n",
    "        plt.imshow(mask, cmap='gray')\n",
    "        plt.imshow(spots_np, cmap='gray')\n",
    "        #plt.savefig('plots/SABERexample.png')\n",
    "        plt.show()"
   ]
  },
  {
   "cell_type": "code",
   "execution_count": null,
   "metadata": {},
   "outputs": [],
   "source": [
    "plt.hist(spot_intensities['SABER'])\n",
    "plt.show()"
   ]
  },
  {
   "cell_type": "code",
   "execution_count": null,
   "metadata": {},
   "outputs": [],
   "source": [
    "plt.hist(spot_intensities['pSABER'])\n",
    "plt.show()"
   ]
  }
 ],
 "metadata": {
  "kernelspec": {
   "display_name": "spot_quant",
   "language": "python",
   "name": "python3"
  },
  "language_info": {
   "codemirror_mode": {
    "name": "ipython",
    "version": 3
   },
   "file_extension": ".py",
   "mimetype": "text/x-python",
   "name": "python",
   "nbconvert_exporter": "python",
   "pygments_lexer": "ipython3",
   "version": "3.9.16"
  },
  "orig_nbformat": 4,
  "vscode": {
   "interpreter": {
    "hash": "5d40c366539b03a6a1525d2774925e2e3acfd39a51bf84aee5e98fa70752b634"
   }
  }
 },
 "nbformat": 4,
 "nbformat_minor": 2
}
